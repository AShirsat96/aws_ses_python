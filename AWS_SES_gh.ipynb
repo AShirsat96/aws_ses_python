{
 "cells": [
  {
   "cell_type": "code",
   "execution_count": 1,
   "id": "f27d76bd",
   "metadata": {},
   "outputs": [],
   "source": [
    "# Install once only - python official library from AWS\n",
    "# !pip install boto3"
   ]
  },
  {
   "cell_type": "markdown",
   "id": "d2b59df8",
   "metadata": {},
   "source": [
    "### define configuration"
   ]
  },
  {
   "cell_type": "code",
   "execution_count": 2,
   "id": "c6221de8",
   "metadata": {},
   "outputs": [],
   "source": [
    "aws_access_key_id = <Your Access Key>\n",
    "aws_secret_access_key = <Your secret access key>\n",
    "myregion= <your region>"
   ]
  },
  {
   "cell_type": "code",
   "execution_count": 3,
   "id": "215b83db",
   "metadata": {},
   "outputs": [],
   "source": [
    "import boto3"
   ]
  },
  {
   "cell_type": "code",
   "execution_count": 17,
   "id": "bc074e54",
   "metadata": {},
   "outputs": [],
   "source": [
    "from botocore.exceptions import ClientError, WaiterError"
   ]
  },
  {
   "cell_type": "code",
   "execution_count": 20,
   "id": "dd81f78e",
   "metadata": {},
   "outputs": [],
   "source": [
    "import logging"
   ]
  },
  {
   "cell_type": "code",
   "execution_count": 21,
   "id": "11f9d338",
   "metadata": {},
   "outputs": [],
   "source": [
    "logger = logging.getLogger(__name__)"
   ]
  },
  {
   "cell_type": "code",
   "execution_count": 45,
   "id": "006864f0",
   "metadata": {},
   "outputs": [],
   "source": [
    "def Send_SES_Email( aws_access,aws_secret,aws_region,vsource,vTo,vCC,vBCC,vsubject,vtext,vhtml):\n",
    "    ses_client = boto3.client('ses',aws_access_key_id=aws_access,\n",
    "                              aws_secret_access_key=aws_secret,region_name =aws_region)\n",
    "    try:\n",
    "        response = ses_client.send_email(\n",
    "           Source = vsource,\n",
    "           Destination= {\n",
    "                'ToAddresses': vTo,\n",
    "                'CcAddresses': vCC,\n",
    "               'BccAddresses': vBCC },\n",
    "          Message= {\n",
    "                \"Subject\": {\"Data\": vsubject},\n",
    "                \"Body\": {\"Text\": {\"Data\": vtext}, \"Html\": {\"Data\": vhtml}}, },)\n",
    "        message_id = response[\"MessageId\"]\n",
    "        logger.info(\"Sent mail %s from %s \",message_id,vsource)\n",
    "    except ClientError:\n",
    "        logger.exception(\"Couldn't send mail from %s \",vsource)\n",
    "        raise\n",
    "    else:\n",
    "        return message_id"
   ]
  },
  {
   "cell_type": "code",
   "execution_count": 46,
   "id": "968e8389",
   "metadata": {},
   "outputs": [
    {
     "data": {
      "text/plain": [
       "'010e018e039375e6-a2a37041-f498-4938-af11-9f0168b781ab-000000'"
      ]
     },
     "execution_count": 46,
     "metadata": {},
     "output_type": "execute_result"
    }
   ],
   "source": [
    "Send_SES_Email(aws_access_key_id,aws_secret_access_key,'ap-southeast-1','test@test.com',['xxxx@gmail.com','test@xyz.com'],[],[],'Test Email Subject 5','This is a test email body 5','This is a test email html body 5')"
   ]
  },
  {
   "cell_type": "code",
   "execution_count": null,
   "id": "e2d27e80",
   "metadata": {},
   "outputs": [],
   "source": [
    "message_id = Send_SES_Email(\n",
    "    aws_access=\"your_aws_access_key\",\n",
    "    aws_secret=\"your_aws_secret_key\",\n",
    "    aws_region=\"your_aws_region\",\n",
    "    vsource=\"sender@example.com\",\n",
    "    vTo=[\"recipient1@example.com\", \"recipient2@example.com\"],\n",
    "    vCC=[\"cc1@example.com\"],\n",
    "    vBCC=[\"bcc1@example.com\"],\n",
    "    vsubject=\"Hello from Python and AWS SES\",\n",
    "    vtext=\"This is a plain text email sent via Python and AWS SES.\",\n",
    "    vhtml=\"<p>This is an HTML email sent via Python and AWS SES.</p>\")\n",
    "print(\"Email sent successfully! Message ID:\", message_id)"
   ]
  },
  {
   "cell_type": "code",
   "execution_count": null,
   "id": "4ab6c459-881d-4458-b783-6d8288fc2715",
   "metadata": {},
   "outputs": [],
   "source": []
  }
 ],
 "metadata": {
  "kernelspec": {
   "display_name": "Python 3 (ipykernel)",
   "language": "python",
   "name": "python3"
  },
  "language_info": {
   "codemirror_mode": {
    "name": "ipython",
    "version": 3
   },
   "file_extension": ".py",
   "mimetype": "text/x-python",
   "name": "python",
   "nbconvert_exporter": "python",
   "pygments_lexer": "ipython3",
   "version": "3.11.7"
  }
 },
 "nbformat": 4,
 "nbformat_minor": 5
}
