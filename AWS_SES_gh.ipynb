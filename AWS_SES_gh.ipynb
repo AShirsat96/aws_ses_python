{
 "cells": [
  {
   "cell_type": "code",
   "execution_count": 1,
   "id": "f27d76bd",
   "metadata": {},
   "outputs": [],
   "source": [
    "# Install once only - python official library from AWS\n",
    "# !pip install boto3"
   ]
  },
  {
   "cell_type": "markdown",
   "id": "d2b59df8",
   "metadata": {},
   "source": [
    "### define configuration"
   ]
  },
  {
   "cell_type": "code",
   "execution_count": 2,
   "id": "c6221de8",
   "metadata": {},
   "outputs": [],
   "source": [
    "aws_access_key_id = <Your Access Key>\n",
    "aws_secret_access_key = <Your secret access key>\n",
    "myregion= <your region>"
   ]
  },
  {
   "cell_type": "code",
   "execution_count": 3,
   "id": "215b83db",
   "metadata": {},
   "outputs": [],
   "source": [
    "import boto3"
   ]
  },
  {
   "cell_type": "code",
   "execution_count": 17,
   "id": "bc074e54",
   "metadata": {},
   "outputs": [],
   "source": [
    "from botocore.exceptions import ClientError, WaiterError"
   ]
  },
  {
   "cell_type": "code",
   "execution_count": 20,
   "id": "dd81f78e",
   "metadata": {},
   "outputs": [],
   "source": [
    "import logging"
   ]
  },
  {
   "cell_type": "code",
   "execution_count": 21,
   "id": "11f9d338",
   "metadata": {},
   "outputs": [],
   "source": [
    "logger = logging.getLogger(__name__)"
   ]
  },
  {
   "cell_type": "code",
   "execution_count": null,
   "id": "1689c93f",
   "metadata": {},
   "outputs": [],
   "source": [
    "import os\n",
    "from datetime import datetime\n",
    "def setup_logger(log_directory='C:/MyPythonProjects/AWS_SES_Logging'):  # Example path - change this to your preferred path\n",
    "    \"\"\"\n",
    "    Set up logger with proper formatting and handlers\n",
    "    Args:\n",
    "        log_directory (str): Directory where log files will be stored\n",
    "    \"\"\"\n",
    "    # Create logs directory if it doesn't exist\n",
    "    if not os.path.exists(log_directory):\n",
    "        os.makedirs(log_directory)\n",
    "    \n",
    "    # Create a timestamp for the log file name\n",
    "    timestamp = datetime.now().strftime('%Y%m%d_%H%M%S')\n",
    "    log_file_path = os.path.join(log_directory, f'ses_email_sender_{timestamp}.log')\n",
    "    \n",
    "    # Configure logger\n",
    "    logger = logging.getLogger('ses_email_sender')\n",
    "    logger.setLevel(logging.INFO)\n",
    "    \n",
    "    # Create console handler with formatting\n",
    "    console_handler = logging.StreamHandler()\n",
    "    console_handler.setLevel(logging.INFO)\n",
    "    \n",
    "    # Create file handler\n",
    "    file_handler = logging.FileHandler(log_file_path)\n",
    "    file_handler.setLevel(logging.INFO)\n",
    "    \n",
    "    # Create formatter\n",
    "    formatter = logging.Formatter('%(asctime)s - %(name)s - %(levelname)s - %(message)s')\n",
    "    console_handler.setFormatter(formatter)\n",
    "    file_handler.setFormatter(formatter)\n",
    "    \n",
    "    # Add handlers to logger\n",
    "    logger.addHandler(console_handler)\n",
    "    logger.addHandler(file_handler)\n",
    "    \n",
    "    # Log the locations where logs are being written\n",
    "    logger.info(f\"Logging to console and file: {log_file_path}\")\n",
    "    \n",
    "    return logger"
   ]
  },
  {
   "cell_type": "code",
   "execution_count": null,
   "id": "e1a1cb33",
   "metadata": {},
   "outputs": [],
   "source": [
    "logger = setup_logger(log_directory='C:/MyLogs/SESEmailLogs')#<Put your own preferred log directory path>"
   ]
  },
  {
   "cell_type": "code",
   "execution_count": null,
   "id": "006864f0",
   "metadata": {},
   "outputs": [],
   "source": [
    "def Send_SES_Email(aws_access, aws_secret, aws_region, vsource, vTo, vCC, vBCC, vsubject, vtext, vhtml):\n",
    "    \"\"\"\n",
    "    Send email using AWS SES with comprehensive logging\n",
    "    \n",
    "    Args:\n",
    "        aws_access (str): AWS access key ID\n",
    "        aws_secret (str): AWS secret access key\n",
    "        aws_region (str): AWS region name\n",
    "        vsource (str): Sender email address\n",
    "        vTo (list): List of recipient email addresses\n",
    "        vCC (list): List of CC email addresses\n",
    "        vBCC (list): List of BCC email addresses\n",
    "        vsubject (str): Email subject\n",
    "        vtext (str): Plain text email body\n",
    "        vhtml (str): HTML email body\n",
    "    \n",
    "    Returns:\n",
    "        str: Message ID if successful\n",
    "        \n",
    "    Raises:\n",
    "        ClientError: If there's an error with AWS SES\n",
    "        Exception: For other unexpected errors\n",
    "    \"\"\"\n",
    "    logger = logging.getLogger('ses_email_sender')\n",
    "    \n",
    "    # Log initial attempt\n",
    "    logger.info(f\"Attempting to send email from {vsource} to {vTo}\")\n",
    "    logger.debug(f\"CC: {vCC}, BCC: {vBCC}\")\n",
    "    \n",
    "    try:\n",
    "        # Create SES client\n",
    "        logger.debug(f\"Creating SES client for region {aws_region}\")\n",
    "        ses_client = boto3.client(\n",
    "            'ses',\n",
    "            aws_access_key_id=aws_access,\n",
    "            aws_secret_access_key=aws_secret,\n",
    "            region_name=aws_region\n",
    "        )\n",
    "        \n",
    "        # Prepare email\n",
    "        logger.debug(\"Preparing email payload\")\n",
    "        response = ses_client.send_email(\n",
    "            Source=vsource,\n",
    "            Destination={\n",
    "                'ToAddresses': vTo,\n",
    "                'CcAddresses': vCC,\n",
    "                'BccAddresses': vBCC\n",
    "            },\n",
    "            Message={\n",
    "                \"Subject\": {\"Data\": vsubject},\n",
    "                \"Body\": {\n",
    "                    \"Text\": {\"Data\": vtext},\n",
    "                    \"Html\": {\"Data\": vhtml}\n",
    "                },\n",
    "            }\n",
    "        )\n",
    "        \n",
    "        message_id = response[\"MessageId\"]\n",
    "        logger.info(f\"Successfully sent email with MessageId: {message_id}\")\n",
    "        logger.debug(f\"Full response: {response}\")\n",
    "        \n",
    "    except ClientError as e:\n",
    "        logger.error(f\"Failed to send email from {vsource}\")\n",
    "        logger.error(f\"Error: {str(e)}\")\n",
    "        logger.debug(f\"Error details: {e.response['Error']}\")\n",
    "        raise\n",
    "    except Exception as e:\n",
    "        logger.error(f\"Unexpected error while sending email: {str(e)}\")\n",
    "        raise\n",
    "    else:\n",
    "        return message_id"
   ]
  },
  {
   "cell_type": "code",
   "execution_count": 46,
   "id": "968e8389",
   "metadata": {},
   "outputs": [
    {
     "data": {
      "text/plain": [
       "'010e018e039375e6-a2a37041-f498-4938-af11-9f0168b781ab-000000'"
      ]
     },
     "execution_count": 46,
     "metadata": {},
     "output_type": "execute_result"
    }
   ],
   "source": [
    "Send_SES_Email(aws_access_key_id,aws_secret_access_key,'ap-southeast-1','test@test.com',['xxxx@gmail.com','test@xyz.com'],[],[],'Test Email Subject 5','This is a test email body 5','This is a test email html body 5')"
   ]
  },
  {
   "cell_type": "code",
   "execution_count": null,
   "id": "e2d27e80",
   "metadata": {},
   "outputs": [],
   "source": [
    "message_id = Send_SES_Email(\n",
    "    aws_access=\"your_aws_access_key\",\n",
    "    aws_secret=\"your_aws_secret_key\",\n",
    "    aws_region=\"your_aws_region\",\n",
    "    vsource=\"sender@example.com\",\n",
    "    vTo=[\"recipient1@example.com\", \"recipient2@example.com\"],\n",
    "    vCC=[\"cc1@example.com\"],\n",
    "    vBCC=[\"bcc1@example.com\"],\n",
    "    vsubject=\"Hello from Python and AWS SES\",\n",
    "    vtext=\"This is a plain text email sent via Python and AWS SES.\",\n",
    "    vhtml=\"<p>This is an HTML email sent via Python and AWS SES.</p>\")\n",
    "print(\"Email sent successfully! Message ID:\", message_id)"
   ]
  },
  {
   "cell_type": "code",
   "execution_count": null,
   "id": "4ab6c459-881d-4458-b783-6d8288fc2715",
   "metadata": {},
   "outputs": [],
   "source": []
  }
 ],
 "metadata": {
  "kernelspec": {
   "display_name": "Python 3 (ipykernel)",
   "language": "python",
   "name": "python3"
  },
  "language_info": {
   "codemirror_mode": {
    "name": "ipython",
    "version": 3
   },
   "file_extension": ".py",
   "mimetype": "text/x-python",
   "name": "python",
   "nbconvert_exporter": "python",
   "pygments_lexer": "ipython3",
   "version": "3.11.7"
  }
 },
 "nbformat": 4,
 "nbformat_minor": 5
}
